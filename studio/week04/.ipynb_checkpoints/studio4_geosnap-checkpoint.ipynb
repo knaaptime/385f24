{
  "cells": [
    {
      "cell_type": "markdown",
      "metadata": {},
      "source": [
        "---\n",
        "title: geosnap and geoprocessing\n",
        "format: \n",
        "  html:\n",
        "    code-fold: false\n",
        "jupyter: python3\n",
        "\n",
        "---\n",
        "\n",
        "\n",
        "# Geosnap\n",
        "\n",
        "`geosnap` - the geospatial neighborhood analysis package - provides a suite of tools for understanding the composition and extent of [endogenous] neighborhoods and regions in a study area. It provides: \n",
        " - simple access to commonly-used datasets in urban and regional analyses (https://open.quiltdata.com/b/spatial-ucr)\n",
        "     - demographic data (Census/ACS)\n",
        "     - employment (LEHD)\n",
        "     - environment (EPA)\n",
        "     - travel infrastructure (OSM)\n",
        "     - public education systems (NCES)\n",
        " - an easy interface to build geodemographic typologies\n",
        "     - classic aspatial typologies\n",
        "     - constrained homogenous regions\n",
        " - built-in functionality to facilitate spatiotemporal analysis\n",
        "     - within time-period standardization\n",
        "     - boundary harmonization\n",
        "     - inflation adjustment\n",
        " - bespoke plotting tools to help visualize neighborhood dynamics\n",
        "    - temporally-static choropleth mapping\n",
        "    - animated mapping\n",
        " - state-of-the-art techniques for modeling neighborhood change over time\n",
        "     - spatial Markov transition models\n",
        "     - sequence analysis\n",
        "\n",
        "Today, we want to focus on getting data from `geosnap`. This involves two basic steps: instantiate a `DataStore` class which points to datasets installed on the 385 course server, then querying the new `DataStore` object using functions from the geosnap `io` (for input-ouput) module\n"
      ]
    },
    {
      "cell_type": "code",
      "metadata": {},
      "source": [
        "import geopandas as gpd\n",
        "import pandas as pd\n",
        "import geosnap\n",
        "geosnap.__version__"
      ],
      "execution_count": null,
      "outputs": []
    },
    {
      "cell_type": "code",
      "metadata": {},
      "source": [
        "from geosnap import DataStore"
      ],
      "execution_count": null,
      "outputs": []
    },
    {
      "cell_type": "markdown",
      "metadata": {},
      "source": [
        "All of the datasets available in `geosnap` can be streamed from the cloud or installed on a local machine for analysis. In many cases, streaming works fine, but for repeated use of the same datasets, it is easier to install the data permanently. We have already done that on the course server. To ensure `geosnap` can access that data, we instantiate a new DataStore object pointing to the location of the data\n"
      ]
    },
    {
      "cell_type": "code",
      "metadata": {},
      "source": [
        "datasets = DataStore(\"/srv/data/geosnap\")"
      ],
      "execution_count": null,
      "outputs": []
    },
    {
      "cell_type": "markdown",
      "metadata": {},
      "source": [
        "The `datasets` object can now be used to read and write data from the `\"/srv/data/geosnap/\"` folder, which is where the course data lives).\n",
        "\n",
        "As a quick shorthand to see the available datasets, you can use the `dir` function to peek inside the `datasets` object\n"
      ]
    },
    {
      "cell_type": "code",
      "metadata": {},
      "source": [
        "dir(datasets)"
      ],
      "execution_count": null,
      "outputs": []
    },
    {
      "cell_type": "markdown",
      "metadata": {},
      "source": [
        "Each of these is a dataset that can be accessed. For more information on the datasets, see [the geosnap datasets page](https://open.quiltdata.com/b/spatial-ucr).\n",
        "\n",
        "As one example, we can collect data from the U.S. Census American Community Survey (5-year survey estimates) using the `get_acs` function in geosnap's `io` module.\n"
      ]
    },
    {
      "cell_type": "code",
      "metadata": {},
      "source": [
        "from geosnap import io as gio"
      ],
      "execution_count": null,
      "outputs": []
    },
    {
      "cell_type": "markdown",
      "metadata": {},
      "source": [
        "First we import the `io` module, aliased as `gio`, then we query the DataStore (called `datasets`) for ACS data at the tract level for state 06 (which is California) and year 2016 (which is the 2012-2016 ACS).\n",
        "\n",
        "## Census Data\n"
      ]
    },
    {
      "cell_type": "code",
      "metadata": {},
      "source": [
        "from geosnap.io import get_acs\n",
        "\n",
        "ca = get_acs(datasets, state_fips=['06'], level='tract', years=[2016])"
      ],
      "execution_count": null,
      "outputs": []
    },
    {
      "cell_type": "markdown",
      "metadata": {},
      "source": [
        "The `ca` variable now holds a geodataframe of California census data at the tract level. To get a different year or a different geographic level, we could specify different input parameters to the `get_acs` function\n"
      ]
    },
    {
      "cell_type": "code",
      "metadata": {},
      "source": [
        "ca.head()"
      ],
      "execution_count": null,
      "outputs": []
    },
    {
      "cell_type": "code",
      "metadata": {},
      "source": [
        "ca.plot()"
      ],
      "execution_count": null,
      "outputs": []
    },
    {
      "cell_type": "markdown",
      "metadata": {},
      "source": [
        "To trim down the existing dataset, for example to \"slice out\" the tracts in San Diego county, we use pandas dataframe operations. Here we use the `geoid` column to select tracts that begin with \"06073\", which is the county FIPS code for San Diego\n"
      ]
    },
    {
      "cell_type": "code",
      "metadata": {},
      "source": [
        "sd = ca[ca.geoid.str.startswith('06073')]"
      ],
      "execution_count": null,
      "outputs": []
    },
    {
      "cell_type": "code",
      "metadata": {},
      "source": [
        "sd.plot()"
      ],
      "execution_count": null,
      "outputs": []
    },
    {
      "cell_type": "markdown",
      "metadata": {},
      "source": [
        "## EPA Environmental Justice Screening Data\n",
        "\n",
        "The Environmental Protection Agency (EPA)'s envrironmental justice screening\n",
        "tool (EJSCREEN) is a national dataset that provides a wealth of environmental\n",
        "(and some demographic) data at a blockgroup level. For a full list of indicators\n",
        "and their metadata, see the EPA page, but this dataset includes important\n",
        "variables like air toxics cancer risk,ozone concentration in the air,\n",
        "particulate matter, and proximity to superfund sites.\n",
        "\n",
        "The EJSCREEN data can be queried similarly to the ACS data. For example to get blockgroup-level data for the Seattle metropolitan region in 2019, we would use the following"
      ]
    },
    {
      "cell_type": "code",
      "metadata": {},
      "source": [
        "sea_ejscreen = gio.get_ejscreen(datasets, msa_fips=\"42660\", years=2019).to_crs(4326)"
      ],
      "execution_count": null,
      "outputs": []
    },
    {
      "cell_type": "markdown",
      "metadata": {},
      "source": [
        "A description of the variables in the `EJSCREEN` data is available [here](https://open.quiltdata.com/b/spatial-ucr/tree/epa/ejscreen/README.md). A subset of the interesting variables we might examine is provided in the table below\n",
        "\n",
        "|Variable | Description |\n",
        "|---------|--------------|\n",
        "| DSLPM\t| Diesel particulate matter level in air |\n",
        "| CANCER\t| Air toxics cancer risk |\n",
        "| RESP\t| Air toxics respiratory hazard index |\n",
        "| PTRAF\t| Traffic proximity and volume |\n",
        "| PWDIS\t| Indicator for major direct dischargers to water |\n",
        "| PNPL\t| Proximity to National Priorities List (NPL) sites |\n",
        "| PRMP\t| Proximity to Risk Management Plan (RMP) facilities |\n",
        "| PTSDF\t| Proximity to Treatment Storage and Disposal (TSDF) facilities |\n",
        "| OZONE\t| Ozone level in air |\n",
        "| PM25\t| PM2.5 level in air |\n"
      ]
    },
    {
      "cell_type": "code",
      "metadata": {},
      "source": [
        "sea_ejscreen.plot()"
      ],
      "execution_count": null,
      "outputs": []
    },
    {
      "cell_type": "markdown",
      "metadata": {},
      "source": [
        "# Geoprocessing\n",
        "\n",
        "Once a dataset is selected, we often need to perform more transformations and data operations than  this notebook we cover a subset of geoprocessing methods:\n",
        "\n",
        "- Reading & Writing geospatial data\n",
        "- Coordinate reference system transformations\n",
        "- Spatial joins\n",
        "- Spatial aggregations\n"
      ]
    },
    {
      "cell_type": "code",
      "metadata": {},
      "source": [
        "sea_ejscreen.head()"
      ],
      "execution_count": null,
      "outputs": []
    },
    {
      "cell_type": "code",
      "metadata": {},
      "source": [
        "sea_ejscreen.shape"
      ],
      "execution_count": null,
      "outputs": []
    },
    {
      "cell_type": "markdown",
      "metadata": {},
      "source": [
        "This dataset has 2,483 observations (rows) and 368 attributes (columns)\n"
      ]
    },
    {
      "cell_type": "code",
      "metadata": {},
      "source": [
        "sea_ejscreen.columns"
      ],
      "execution_count": null,
      "outputs": []
    },
    {
      "cell_type": "markdown",
      "metadata": {},
      "source": [
        "Two important pieces of information distinguish a `GeoDataFrame` from a simple aspatial `DataFrame`: a 'geometry' column that defines the shape and of each feature, and a Coordinate Reference System (CRS) that stores metadata about *how* the shape is encoded.\n"
      ]
    },
    {
      "cell_type": "code",
      "metadata": {},
      "source": [
        "sea_ejscreen.geometry"
      ],
      "execution_count": null,
      "outputs": []
    },
    {
      "cell_type": "markdown",
      "metadata": {},
      "source": [
        "Since the Seattle blockgroups are polygons, naturally they are represented as a shapely `Polygon` (or `MultiPolygon`, meaning there are multiple shapes that combine to create a single blockgroup) object. This means, essentially, that each polygon is represented as a set of coordinates that define the polygon border. The *units* of those coordinates are stored in the GeoDataFrame's Coordinate Reference System  attribute `crs`\n"
      ]
    },
    {
      "cell_type": "code",
      "metadata": {},
      "source": [
        "sea_ejscreen.crs"
      ],
      "execution_count": null,
      "outputs": []
    },
    {
      "cell_type": "markdown",
      "metadata": {},
      "source": [
        "In this case, the blockgroups stored in Latitude/Longitude using the well-known WGS84 datum. Latitude/Longitude is called a 'geographic coordinate system' because the coordinates refer to locations on a spheroid, and the data have not been projected onto a flat plane.\n"
      ]
    },
    {
      "cell_type": "code",
      "metadata": {},
      "source": [
        "sea_ejscreen.crs.is_projected"
      ],
      "execution_count": null,
      "outputs": []
    },
    {
      "cell_type": "code",
      "metadata": {},
      "source": [
        "sea_ejscreen.crs.is_geographic"
      ],
      "execution_count": null,
      "outputs": []
    },
    {
      "cell_type": "markdown",
      "metadata": {},
      "source": [
        "Naturally, the CRS defined on the GeoDataFrame governs the behavior of any spatial operation performed against the dataset, like computing the area of each polygon, the area of intersection with another dataset, or the distance between observations\n"
      ]
    },
    {
      "cell_type": "code",
      "metadata": {},
      "source": [
        "sea_ejscreen.area"
      ],
      "execution_count": null,
      "outputs": []
    },
    {
      "cell_type": "markdown",
      "metadata": {},
      "source": [
        "Note that we get a warning from GeoPandas when trying to compute the are of a polygon stored in a geographic CRS. But we can estimate an appropriate [Universal Transverse Mercator (UTM)](https://en.wikipedia.org/wiki/Universal_Transverse_Mercator_coordinate_system) Zone for the center of the Seattle Metro dataset, then reproject the blockgroups into that system, and recompute the area.\n"
      ]
    },
    {
      "cell_type": "code",
      "metadata": {},
      "source": [
        "# get the UTM zone for Chicago\n",
        "utm_crs = sea_ejscreen.estimate_utm_crs()\n",
        "utm_crs"
      ],
      "execution_count": null,
      "outputs": []
    },
    {
      "cell_type": "markdown",
      "metadata": {},
      "source": [
        "Seattle falls inside UTM Zone 10 North (apparently), and since UTM is measured in meters, the second `area` calculation shows the (correct) area of each blockgroup as square kilometers.\n"
      ]
    },
    {
      "cell_type": "code",
      "metadata": {},
      "source": [
        "# reproject into UTM and convert area in square meters to square kilometers\n",
        "sea_ejscreen.to_crs(utm_crs).area / 1e6"
      ],
      "execution_count": null,
      "outputs": []
    },
    {
      "cell_type": "markdown",
      "metadata": {},
      "source": [
        "One other difference between a DataFrame and a GeoDataFrame is the `plot` method has been overloaded to generate a quick map \n"
      ]
    },
    {
      "cell_type": "code",
      "metadata": {},
      "source": [
        "sea_ejscreen.plot()"
      ],
      "execution_count": null,
      "outputs": []
    },
    {
      "cell_type": "markdown",
      "metadata": {},
      "source": [
        "## Geospatial Operations\n",
        "\n",
        "Geopandas can carry out [all standard GIS operations](https://geopandas.org/en/stable/docs/user_guide/geometric_manipulations.html) using methods implemented on a GeoDataFrame, for example\n",
        "\n",
        "- clip: \"cut\" the extent of one dataset using the boundaries of another\n",
        "- dissolve: aggregate geometries using a common value from an attribute (e.g. remove interior boundaries from larger container polygons, e.g. counties within a state)\n",
        "- simplify: remove vertices from the input geometries\n",
        "- buffer: extend the boundaries of input geometries by a fixed distance (always returns polygons)\n",
        "- centroid: compute the geometric center of input geometries (always returns points)\n",
        "- convex/concave hull: compute the most efficient convex/convave polygon that contains vertices from all input geometries\n",
        "\n",
        "By combining these operations along with spatial predicates, we can create queries based on the [topological relationships](https://www.spatialanalysisonline.com/HTML/index.html?topology.htm) between two sets of geographic units, which is often critical for creating variables of interest.\n",
        "\n",
        "To demonstrate, we will first collect data from [OpenStreetMap](https://openstreetmap.org) (OSM), specifically highways in the Seattle metro. In OSM parlance, this means we're querying for [\"highways\" with the \"motorway\" tag](https://wiki.openstreetmap.org/wiki/Tag:highway%3Dmotorway) (which means \"the highest-performance roads within a territory. It should be used only on roads with  control of access, or selected roads with  limited access depending on the local context and prevailing convention. Those roads are generally referred to as motorways, freeways or expressways in English.\")\n"
      ]
    },
    {
      "cell_type": "code",
      "metadata": {},
      "source": [
        "import osmnx as ox"
      ],
      "execution_count": null,
      "outputs": []
    },
    {
      "cell_type": "code",
      "metadata": {},
      "source": [
        "highways = ox.features_from_polygon(\n",
        "    sea_ejscreen.union_all(), tags={\"highway\": \"motorway\"}\n",
        ")"
      ],
      "execution_count": null,
      "outputs": []
    },
    {
      "cell_type": "markdown",
      "metadata": {},
      "source": [
        "This returns a new GeoDataFrame storing each highway as a line feature. \n"
      ]
    },
    {
      "cell_type": "code",
      "metadata": {},
      "source": [
        "highways.head()"
      ],
      "execution_count": null,
      "outputs": []
    },
    {
      "cell_type": "code",
      "metadata": {},
      "source": [
        "highways.plot()"
      ],
      "execution_count": null,
      "outputs": []
    },
    {
      "cell_type": "markdown",
      "metadata": {},
      "source": [
        "Notice in the call to `features_from_polygon` above, we used the `unary_union` operator on the Seattle tracts dataframe. This effectively combines all the tracts into a single polygon so we are querying anything that intersects *any* tract, rather than querying intersections with each tract individually. We can do the same thing on the highway GeoDataFrame to see the effect\n"
      ]
    },
    {
      "cell_type": "code",
      "metadata": {},
      "source": [
        "# note in geopandas <1.0 this is `highways.unary_union`\n",
        "\n",
        "hw_union = highways.union_all()"
      ],
      "execution_count": null,
      "outputs": []
    },
    {
      "cell_type": "code",
      "metadata": {},
      "source": [
        "hw_union"
      ],
      "execution_count": null,
      "outputs": []
    },
    {
      "cell_type": "markdown",
      "metadata": {},
      "source": [
        "Now `hw_union` is a single shapely.Polygon with no attribute information\n"
      ]
    },
    {
      "cell_type": "code",
      "metadata": {},
      "source": [
        "gpd.GeoDataFrame(geometry=[hw_union], crs=4326).explore(tiles='CartoDB Positron')"
      ],
      "execution_count": null,
      "outputs": []
    },
    {
      "cell_type": "markdown",
      "metadata": {},
      "source": [
        "## Integrating Spatial Datasets\n",
        "\n",
        "\n",
        "Let's assume the role of a public health epidemiologist who is interested in equity issues surrounding exposure to highways and automobile emissions. We may be interested in who lives near the highway and whether the population nearby experiences a heightened exposure to toxic emissions.\n",
        "\n",
        "### Select by Location\n",
        "\n",
        "One simple question would be, which tracts have a highway run through them? We can formalize that by asking which tracts *intersect* the highway system.\n"
      ]
    },
    {
      "cell_type": "code",
      "metadata": {},
      "source": [
        "highway_blockgroups = sea_ejscreen[sea_ejscreen.intersects(hw_union)]\n",
        "highway_blockgroups.plot()"
      ],
      "execution_count": null,
      "outputs": []
    },
    {
      "cell_type": "markdown",
      "metadata": {},
      "source": [
        "A more complicated question is, which tracts are within 1.5km of a road? This is 'complicated' because it forces us to formalize an ill-defined relationship: the distance between a polygon and the nearest point on a line. What does it mean for the polygon to be 'within' 1.5km? Does that mean the whole tract? most of it? any part of it?\n",
        "\n",
        "If we can define a most suitable distance measure, the technical selection is easy to execute using an intermediate geometry.\n"
      ]
    },
    {
      "cell_type": "code",
      "metadata": {},
      "source": [
        "road_buffer = highways.to_crs(highways.estimate_utm_crs()).buffer(1500)"
      ],
      "execution_count": null,
      "outputs": []
    },
    {
      "cell_type": "code",
      "metadata": {},
      "source": [
        "gpd.GeoDataFrame(geometry=[road_buffer.union_all()], crs=road_buffer.crs).explore(tiles='CartoDB Positron')"
      ],
      "execution_count": null,
      "outputs": []
    },
    {
      "cell_type": "code",
      "metadata": {},
      "source": [
        "sea_ejscreen.crs"
      ],
      "execution_count": null,
      "outputs": []
    },
    {
      "cell_type": "code",
      "metadata": {},
      "source": [
        "sea_ejscreen[sea_ejscreen.intersects(road_buffer.union_all())]"
      ],
      "execution_count": null,
      "outputs": []
    },
    {
      "cell_type": "markdown",
      "metadata": {},
      "source": [
        "This gives us back nothing... There is no intersection because the EJSCREEN data is still stored in Lat/Long, but we reprojected the road buffer into UTM\n"
      ]
    },
    {
      "cell_type": "code",
      "metadata": {},
      "source": [
        "sea_ejscreen = sea_ejscreen.to_crs(road_buffer.crs)"
      ],
      "execution_count": null,
      "outputs": []
    },
    {
      "cell_type": "markdown",
      "metadata": {},
      "source": [
        "By selecting the tracts that intersect with the interstate buffer, we are codifying the tracts as 'near the highway' if *any portion* of a tract is within 1.5km. This can be an awkard choice when polygons are irregularly shaped or heteogeneously sized (Census tracts are both). This means large tracts get included as 'near', even when a small portion of the polygon is within the 1.5km threshold (like the tract on the far Eastern edge).\n"
      ]
    },
    {
      "cell_type": "code",
      "metadata": {},
      "source": [
        "sea_ejscreen[sea_ejscreen.intersects(road_buffer.union_all())].plot()"
      ],
      "execution_count": null,
      "outputs": []
    },
    {
      "cell_type": "markdown",
      "metadata": {},
      "source": [
        "Alternatively, we might ask, which tracts have *their center* within 1.5km of a highway? Or more formally, which tracts have their centroids intersect with the 1500m buffer.\n"
      ]
    },
    {
      "cell_type": "code",
      "metadata": {},
      "source": [
        "sea_ejscreen[sea_ejscreen.centroid.intersects(road_buffer.union_all())].plot()"
      ],
      "execution_count": null,
      "outputs": []
    },
    {
      "cell_type": "markdown",
      "metadata": {},
      "source": [
        "If we are happy with that definition of proximity, we can use the spatial selection to create and update a new attribute on the dataframe. Here, we will select the tracts whose centroids are within the threshold distance, then create a new column called \"highway_buffer\", set to \"inside\" (using the indices of the spatial selection to define which rows are being set). \n"
      ]
    },
    {
      "cell_type": "code",
      "metadata": {},
      "source": [
        "# get the dataframe index of the tracts intersecting the buffer\n",
        "\n",
        "inside_idx = sea_ejscreen[\n",
        "    sea_ejscreen.centroid.intersects(road_buffer.union_all())\n",
        "].index"
      ],
      "execution_count": null,
      "outputs": []
    },
    {
      "cell_type": "code",
      "metadata": {},
      "source": [
        "# set the 'highway_buffer' attribute to 'inside' for the indices within\n",
        "sea_ejscreen.loc[inside_idx, \"highway_buffer\"] = \"inside\"\n",
        "\n",
        "# fill all NaN values in the column with 'outside'\n",
        "sea_ejscreen[\"highway_buffer\"] = sea_ejscreen[\"highway_buffer\"].fillna(\"outside\").astype('category')"
      ],
      "execution_count": null,
      "outputs": []
    },
    {
      "cell_type": "markdown",
      "metadata": {},
      "source": [
        "Now 'highway_buffer' is a binary variable defining whether a tract is \"near\" a highway or not. We could have set these values to one and zero, but setting them as a categorical variable means that the geopandas `plot` method uses a different kind of coloring scheme that matches the data more appropriately.\n"
      ]
    },
    {
      "cell_type": "code",
      "metadata": {},
      "source": [
        "sea_ejscreen[['highway_buffer', 'geometry']].explore(\"highway_buffer\", legend=True, tiles='CartoDB Positron')"
      ],
      "execution_count": null,
      "outputs": []
    },
    {
      "cell_type": "markdown",
      "metadata": {},
      "source": [
        "Then, we can use this spatial distinction as a grouping variable to look at average values inside versus outside the threshold zone.\n"
      ]
    },
    {
      "cell_type": "code",
      "metadata": {},
      "source": [
        "sea_ejscreen.groupby(\"highway_buffer\")[[\"PM25\", \"DSLPM\", \"MINORPCT\"]].mean()"
      ],
      "execution_count": null,
      "outputs": []
    },
    {
      "cell_type": "markdown",
      "metadata": {},
      "source": [
        "On average, both PM2.5 and Disel Particulate Matter levels are higher for tracts located within 1.5km of an OSM 'motorway' (what we think is probably an interstate highway). The share of residents identifying as a racial or ethnic miority is also 12% higher on average.\n",
        "\n",
        "\n",
        "\n",
        "### Spatial Join\n",
        "\n",
        "In the example above, we use only the geometric relationship between observations to make selections from one dataset. In other cases, we need to attach attribute data from one dataset to the other using spatial relationships. For example we might want to count the number of health clinics that fall inside each census tract. This actually entails two operations: attaching census tract identifiers to each clinic, then aggregating by tract identifier and counting all clinics within\n",
        "\n",
        "Once again we will query OSM, this time looking for an [amenity with the 'clinic' tag](https://wiki.openstreetmap.org/wiki/Key:amenity)\n"
      ]
    },
    {
      "cell_type": "code",
      "metadata": {},
      "source": [
        "clinics = ox.features_from_polygon(\n",
        "    sea_ejscreen.to_crs(4326).union_all(), tags={\"amenity\": \"clinic\"}\n",
        ")\n",
        "clinics = clinics.reset_index().set_index(\"id\")"
      ],
      "execution_count": null,
      "outputs": []
    },
    {
      "cell_type": "code",
      "metadata": {},
      "source": [
        "clinics.head()"
      ],
      "execution_count": null,
      "outputs": []
    },
    {
      "cell_type": "markdown",
      "metadata": {},
      "source": [
        "The `clinics` dataset now has manuy types of clinics, and also has a mixed geometry type; some clinics are stored as polygons (where the building footprint has been digitized) whereas others are simply stored as points. Lets filter the dataset to include only those defined as clinic (e.g. not counseling) and only points (not polygons)\n",
        "\n",
        "We can do this in two steps like"
      ]
    },
    {
      "cell_type": "code",
      "metadata": {},
      "source": [
        "clinics = clinics[(clinics.healthcare == \"clinic\") & (clinics.element == \"node\")]"
      ],
      "execution_count": null,
      "outputs": []
    },
    {
      "cell_type": "code",
      "metadata": {},
      "source": [
        "clinics.explore(tiles='CartoDB Positron', tooltip=['name', 'healthcare'])"
      ],
      "execution_count": null,
      "outputs": []
    },
    {
      "cell_type": "code",
      "metadata": {},
      "source": [
        "clinics = clinics.to_crs(sea_ejscreen.crs)"
      ],
      "execution_count": null,
      "outputs": []
    },
    {
      "cell_type": "code",
      "metadata": {},
      "source": [
        "clinics_geoid = clinics.sjoin(sea_ejscreen[[\"geoid\", \"geometry\"]])"
      ],
      "execution_count": null,
      "outputs": []
    },
    {
      "cell_type": "code",
      "metadata": {},
      "source": [
        "clinics_geoid.head()"
      ],
      "execution_count": null,
      "outputs": []
    },
    {
      "cell_type": "markdown",
      "metadata": {},
      "source": [
        "Now we want to count clinics in each `geoid`. Since we know `osmid` uniquely identifies each clinic, we can reset the index, then groupby the 'geoid' variable, counting the unique 'osmid's in each one\n"
      ]
    },
    {
      "cell_type": "code",
      "metadata": {},
      "source": [
        "clinic_count = clinics_geoid.reset_index().groupby(\"geoid\").count()[\"id\"]"
      ],
      "execution_count": null,
      "outputs": []
    },
    {
      "cell_type": "code",
      "metadata": {},
      "source": [
        "clinic_count"
      ],
      "execution_count": null,
      "outputs": []
    },
    {
      "cell_type": "markdown",
      "metadata": {},
      "source": [
        "`clinic_count` is now a pandas series where the index refers to the census tract of interest and the value corresponds to the number of clinics that fall inside.\n"
      ]
    },
    {
      "cell_type": "code",
      "metadata": {},
      "source": [
        "sea_ejscreen = sea_ejscreen.merge(\n",
        "    clinic_count.rename(\"clinic_count\"), left_on=\"geoid\", right_index=True, how=\"left\"\n",
        ")"
      ],
      "execution_count": null,
      "outputs": []
    },
    {
      "cell_type": "code",
      "metadata": {},
      "source": [
        "sea_ejscreen.clinic_count"
      ],
      "execution_count": null,
      "outputs": []
    },
    {
      "cell_type": "markdown",
      "metadata": {},
      "source": [
        "Now the `sea_ejscreen` GeoDataFrame has a new column called 'clinic_count' that holds the number of clinics inside. Since we know that NaN (Not a number) refers to zero in this case, we can go ahead and fill the missing data.\n"
      ]
    },
    {
      "cell_type": "code",
      "metadata": {},
      "source": [
        "sea_ejscreen[\"clinic_count\"] = sea_ejscreen[\"clinic_count\"].fillna(0)"
      ],
      "execution_count": null,
      "outputs": []
    },
    {
      "cell_type": "code",
      "metadata": {},
      "source": [
        "sea_ejscreen[['clinic_count', 'geometry']].explore(\n",
        "    \"clinic_count\", scheme='fisher_jenks', cmap='Reds', tiles='CartoDB DarkMatter', style_kwds=dict(weight=0.2)\n",
        ")"
      ],
      "execution_count": null,
      "outputs": []
    }
  ],
  "metadata": {
    "kernelspec": {
      "name": "python3",
      "language": "python",
      "display_name": "Python 3 (ipykernel)",
      "path": "/Users/knaaptime/mambaforge/envs/urban_analysis/share/jupyter/kernels/python3"
    }
  },
  "nbformat": 4,
  "nbformat_minor": 4
}